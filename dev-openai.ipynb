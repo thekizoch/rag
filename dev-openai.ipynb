{
 "cells": [
  {
   "cell_type": "code",
   "execution_count": 1,
   "metadata": {},
   "outputs": [
    {
     "name": "stdout",
     "output_type": "stream",
     "text": [
      "Version: 1.5.0\n",
      "Version: 2.31.0\n"
     ]
    }
   ],
   "source": [
    "# use seagen env\n",
    "!pip show openai | grep Version\n",
    "!pip show requests | grep Version"
   ]
  },
  {
   "cell_type": "code",
   "execution_count": 2,
   "metadata": {},
   "outputs": [
    {
     "name": "stdout",
     "output_type": "stream",
     "text": [
      "https://api.fda.gov/drug/event.json?search=patient.drug.drugindication:prostate cancer&sort=receivedate:desc&limit=10&api_key=GbBobnJXjXP1YFhXZ051a6ZvrN2X7tQc45NBB782\n"
     ]
    }
   ],
   "source": [
    "import requests\n",
    "import os\n",
    "from dotenv import load_dotenv\n",
    "\n",
    "load_dotenv()\n",
    "\n",
    "def get_drug_info(query, limit):\n",
    "    # Replace with your actual API key\n",
    "    api_key = os.getenv('OPENFDA_API_KEY')\n",
    "    \n",
    "    # Base URL for the OpenFDA Drug Endpoint (modify as needed)\n",
    "    base_url = 'https://api.fda.gov/drug/event.json'\n",
    "    \n",
    "    # Construct the full URL with the query and API key\n",
    "    # Adjust parameters as necessary for your specific query needs\n",
    "    request_url = f'{base_url}?search={query}&limit={limit}&api_key={api_key}'\n",
    "    print(request_url)\n",
    "    \n",
    "    # Make the HTTP request to OpenFDA\n",
    "    response = requests.get(request_url)\n",
    "    \n",
    "    # Check if the request was successful\n",
    "    if response.status_code == 200:\n",
    "        # Process and return the response\n",
    "        return response.json()\n",
    "    else:\n",
    "        # Handle errors (e.g., network issues, bad request, exceeded rate limits)\n",
    "        return f'Error: {response.status_code} - {response.text}'\n",
    "\n",
    "# Example usage:\n",
    "query = 'patient.drug.drugindication:prostate cancer&sort=receivedate:desc'\n",
    "results = get_drug_info(query, 10)\n",
    "\n"
   ]
  },
  {
   "cell_type": "code",
   "execution_count": 3,
   "metadata": {},
   "outputs": [],
   "source": [
    "# write results to data/dataset.json file\n",
    "import json\n",
    "with open('data/dataset.json', 'w') as outfile:\n",
    "    json.dump(results, outfile)"
   ]
  },
  {
   "cell_type": "code",
   "execution_count": 4,
   "metadata": {},
   "outputs": [],
   "source": [
    "def show_json(obj):\n",
    "    display(json.loads(obj.model_dump_json()))"
   ]
  },
  {
   "cell_type": "code",
   "execution_count": 6,
   "metadata": {},
   "outputs": [],
   "source": [
    "from openai import OpenAI\n",
    "\n",
    "client = OpenAI(api_key=os.getenv(\"OPENAI_API_KEY\"))\n",
    "\n",
    "# create assistant\n",
    "assistant = client.beta.assistants.create(\n",
    "    name=\"Clinical Data Assistant 2\",\n",
    "    instructions=\"You are a personal Clinical Data Assistant. Answer only using the file(s) provided.\",\n",
    "    model=\"gpt-4-1106-preview\",\n",
    ")\n"
   ]
  },
  {
   "cell_type": "code",
   "execution_count": 13,
   "metadata": {},
   "outputs": [
    {
     "data": {
      "text/plain": [
       "{'id': 'asst_LgqBpOuP5pros8gCqVy23H94',\n",
       " 'created_at': 1703627476,\n",
       " 'description': None,\n",
       " 'file_ids': ['file-oqqRl21JFPO9u8s0xNOUqXfh'],\n",
       " 'instructions': 'You are a personal Clinical Data Assistant. Answer only using the file(s) provided.',\n",
       " 'metadata': {},\n",
       " 'model': 'gpt-4-1106-preview',\n",
       " 'name': 'Clinical Data Assistant 2',\n",
       " 'object': 'assistant',\n",
       " 'tools': [{'type': 'retrieval'}, {'type': 'code_interpreter'}]}"
      ]
     },
     "metadata": {},
     "output_type": "display_data"
    }
   ],
   "source": [
    "ASSISTANT_ID = assistant.id\n",
    "\n",
    "# Upload the file\n",
    "file = client.files.create(\n",
    "    file=open(\n",
    "        \"data/dataset.json\",\n",
    "        \"rb\",\n",
    "    ),\n",
    "    purpose=\"assistants\",\n",
    ")\n",
    "\n",
    "# Update Assistant\n",
    "assistant = client.beta.assistants.update(\n",
    "    ASSISTANT_ID,\n",
    "    tools=[{\"type\": \"retrieval\"}, {\"type\": \"code_interpreter\"}],\n",
    "    file_ids=[file.id],\n",
    ")\n",
    "show_json(assistant)"
   ]
  },
  {
   "cell_type": "code",
   "execution_count": 14,
   "metadata": {},
   "outputs": [],
   "source": [
    "import time\n",
    "\n",
    "def submit_message(assistant_id, thread, user_message):\n",
    "    client.beta.threads.messages.create(\n",
    "        thread_id=thread.id, role=\"user\", content=user_message\n",
    "    )\n",
    "    return client.beta.threads.runs.create(\n",
    "        thread_id=thread.id,\n",
    "        assistant_id=assistant_id,\n",
    "    )\n",
    "\n",
    "\n",
    "def get_response(thread):\n",
    "    return client.beta.threads.messages.list(thread_id=thread.id, order=\"asc\")\n",
    "\n",
    "def create_thread_and_run(user_input):\n",
    "    thread = client.beta.threads.create()\n",
    "    run = submit_message(ASSISTANT_ID, thread, user_input)\n",
    "    return thread, run\n",
    "\n",
    "\n",
    "# Pretty printing helper\n",
    "def pretty_print(messages):\n",
    "    print(\"# Messages\")\n",
    "    for m in messages:\n",
    "        print(f\"{m.role}: {m.content[0].text.value}\")\n",
    "    print()\n",
    "\n",
    "\n",
    "# Waiting in a loop\n",
    "def wait_on_run(run, thread):\n",
    "    while run.status == \"queued\" or run.status == \"in_progress\":\n",
    "        run = client.beta.threads.runs.retrieve(\n",
    "            thread_id=thread.id,\n",
    "            run_id=run.id,\n",
    "        )\n",
    "        time.sleep(0.5)\n",
    "    return run\n"
   ]
  },
  {
   "cell_type": "code",
   "execution_count": 15,
   "metadata": {},
   "outputs": [],
   "source": [
    "thread, run = create_thread_and_run(\n",
    "    \"\"\"What are the most effective treatments for prostate cancer?\"\"\"\n",
    ")\n"
   ]
  },
  {
   "cell_type": "code",
   "execution_count": 16,
   "metadata": {},
   "outputs": [
    {
     "name": "stdout",
     "output_type": "stream",
     "text": [
      "# Messages\n",
      "user: What are the most effective treatments for prostate cancer?\n",
      "\n"
     ]
    }
   ],
   "source": [
    "# Wait for Run\n",
    "run = wait_on_run(run, thread)\n",
    "\n",
    "pretty_print(get_response(thread)) # for regular response"
   ]
  },
  {
   "cell_type": "code",
   "execution_count": 17,
   "metadata": {},
   "outputs": [
    {
     "data": {
      "text/plain": [
       "SyncCursorPage[ThreadMessage](data=[ThreadMessage(id='msg_vUOWef3SlqVrFP3dKrujp0lA', assistant_id=None, content=[MessageContentText(text=Text(annotations=[], value='What are the most effective treatments for prostate cancer?'), type='text')], created_at=1703627648, file_ids=[], metadata={}, object='thread.message', role='user', run_id=None, thread_id='thread_087oyp69ICF869BXgrG9cF8a')], object='list', first_id='msg_vUOWef3SlqVrFP3dKrujp0lA', last_id='msg_vUOWef3SlqVrFP3dKrujp0lA', has_more=False)"
      ]
     },
     "execution_count": 17,
     "metadata": {},
     "output_type": "execute_result"
    }
   ],
   "source": [
    "get_response(thread)"
   ]
  },
  {
   "cell_type": "code",
   "execution_count": null,
   "metadata": {},
   "outputs": [],
   "source": []
  }
 ],
 "metadata": {
  "kernelspec": {
   "display_name": "seagen",
   "language": "python",
   "name": "python3"
  },
  "language_info": {
   "codemirror_mode": {
    "name": "ipython",
    "version": 3
   },
   "file_extension": ".py",
   "mimetype": "text/x-python",
   "name": "python",
   "nbconvert_exporter": "python",
   "pygments_lexer": "ipython3",
   "version": "3.11.6"
  },
  "orig_nbformat": 4
 },
 "nbformat": 4,
 "nbformat_minor": 2
}
